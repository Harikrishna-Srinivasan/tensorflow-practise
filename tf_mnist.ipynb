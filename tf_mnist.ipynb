{
  "nbformat": 4,
  "nbformat_minor": 0,
  "metadata": {
    "colab": {
      "private_outputs": true,
      "provenance": [],
      "gpuType": "T4",
      "authorship_tag": "ABX9TyP5i2dlnb606EgJ90slEAT2",
      "include_colab_link": true
    },
    "kernelspec": {
      "name": "python3",
      "display_name": "Python 3"
    },
    "language_info": {
      "name": "python"
    }
  },
  "cells": [
    {
      "cell_type": "markdown",
      "metadata": {
        "id": "view-in-github",
        "colab_type": "text"
      },
      "source": [
        "<a href=\"https://colab.research.google.com/github/Harikrishna-Srinivasan/tensorflow-practise/blob/main/tf_mnist.ipynb\" target=\"_parent\"><img src=\"https://colab.research.google.com/assets/colab-badge.svg\" alt=\"Open In Colab\"/></a>"
      ]
    },
    {
      "cell_type": "markdown",
      "source": [
        "# Train the Mnist dataset"
      ],
      "metadata": {
        "id": "wYxCu5gICvSv"
      }
    },
    {
      "cell_type": "markdown",
      "source": [
        "#### Import dependencies"
      ],
      "metadata": {
        "id": "925snJBHCm1k"
      }
    },
    {
      "cell_type": "code",
      "execution_count": null,
      "metadata": {
        "id": "1efP27sMCCx3"
      },
      "outputs": [],
      "source": [
        "import tensorflow as tf\n",
        "import numpy as np\n",
        "import random\n",
        "import matplotlib.pyplot as plt"
      ]
    },
    {
      "cell_type": "markdown",
      "source": [
        "#### Load the dataset"
      ],
      "metadata": {
        "id": "Bm16r5-RDGom"
      }
    },
    {
      "cell_type": "code",
      "source": [
        "(x_train, y_train), (x_test, y_test) = tf.keras.datasets.mnist.load_data()"
      ],
      "metadata": {
        "id": "fxhqTJbSClc3"
      },
      "execution_count": null,
      "outputs": []
    },
    {
      "cell_type": "markdown",
      "source": [
        "Set a random state for reproducibility"
      ],
      "metadata": {
        "id": "ppinp6YcJTkG"
      }
    },
    {
      "cell_type": "code",
      "source": [
        "tf.random.set_seed(101)\n",
        "random.seed(101)\n",
        "np.random.seed(101)"
      ],
      "metadata": {
        "id": "VY5KcWDcJTMq"
      },
      "execution_count": null,
      "outputs": []
    },
    {
      "cell_type": "markdown",
      "source": [
        "#### Visualize a few from training data"
      ],
      "metadata": {
        "id": "PXmJiJihJKle"
      }
    },
    {
      "cell_type": "code",
      "source": [
        "# Dimensions of X\n",
        "height, width = x_train[0].shape\n",
        "\n",
        "plt.figure(figsize=(6, 10))\n",
        "for i in range(20):\n",
        "    plt.subplot(5, 4, i+1)\n",
        "    plt.xticks([])\n",
        "    plt.yticks([])\n",
        "    plt.imshow(x_train[i])\n",
        "    plt.xlabel(y_train[i])\n",
        "plt.show()"
      ],
      "metadata": {
        "id": "xGrvzwDDDcHF"
      },
      "execution_count": null,
      "outputs": []
    },
    {
      "cell_type": "markdown",
      "source": [
        "#### Create a model"
      ],
      "metadata": {
        "id": "pJ6-6sPnKWeM"
      }
    },
    {
      "cell_type": "code",
      "source": [
        "model1 = tf.keras.Sequential([\n",
        "    tf.keras.layers.Flatten(input_shape=(height, width)),\n",
        "    tf.keras.layers.Dense(64, activation=\"sigmoid\"),\n",
        "    tf.keras.layers.Dropout(0.15),\n",
        "    tf.keras.layers.Dense(128, activation=\"relu\"),\n",
        "    tf.keras.layers.Dropout(0.2),\n",
        "    tf.keras.layers.Dense(10, activation=\"softmax\")\n",
        "])"
      ],
      "metadata": {
        "id": "MlVw3vOxKWGH"
      },
      "execution_count": null,
      "outputs": []
    },
    {
      "cell_type": "markdown",
      "source": [
        "#### Compile the Model"
      ],
      "metadata": {
        "id": "jWK3FP_cOCX8"
      }
    },
    {
      "cell_type": "code",
      "source": [
        "model1.compile(optimizer=\"adam\",\n",
        "              loss=tf.keras.losses.SparseCategoricalCrossentropy(),\n",
        "              metrics=[\"accuracy\"])"
      ],
      "metadata": {
        "id": "6dixvUJLNt-u"
      },
      "execution_count": null,
      "outputs": []
    },
    {
      "cell_type": "code",
      "source": [
        "model1.summary()"
      ],
      "metadata": {
        "id": "YBJ5qO-lOW8K"
      },
      "execution_count": null,
      "outputs": []
    },
    {
      "cell_type": "markdown",
      "source": [
        "#### Fit / Train the model"
      ],
      "metadata": {
        "id": "i2iOJ6XJPOYi"
      }
    },
    {
      "cell_type": "code",
      "source": [
        "model1.fit(x_train, y_train, epochs=10) # accuracy=0.9036, loss=0.3087"
      ],
      "metadata": {
        "id": "JYO2pwH2OrFE"
      },
      "execution_count": null,
      "outputs": []
    },
    {
      "cell_type": "markdown",
      "source": [
        "#### Normalizing input data"
      ],
      "metadata": {
        "id": "_n_GbnwxR5vn"
      }
    },
    {
      "cell_type": "code",
      "source": [
        "x_train_normal = x_train.astype(\"float32\") / 255.0\n",
        "x_test_normal = x_test.astype(\"float32\") / 255.0"
      ],
      "metadata": {
        "id": "T-lQqtsXPh_K"
      },
      "execution_count": null,
      "outputs": []
    },
    {
      "cell_type": "code",
      "source": [
        "model2 = tf.keras.Sequential([\n",
        "    tf.keras.layers.Flatten(input_shape=(height, width)),\n",
        "    tf.keras.layers.Dense(64, activation=\"sigmoid\"),\n",
        "    tf.keras.layers.Dropout(0.15),\n",
        "    tf.keras.layers.Dense(128, activation=\"relu\"),\n",
        "    tf.keras.layers.Dropout(0.15),\n",
        "    tf.keras.layers.Dense(10, activation=\"softmax\")\n",
        "])"
      ],
      "metadata": {
        "id": "cS3-Edm7SQkx"
      },
      "execution_count": null,
      "outputs": []
    },
    {
      "cell_type": "code",
      "source": [
        "model2.compile(optimizer=\"adam\",\n",
        "              loss=tf.keras.losses.SparseCategoricalCrossentropy(),\n",
        "              metrics=[\"accuracy\"])"
      ],
      "metadata": {
        "id": "SlzibDuJS0HD"
      },
      "execution_count": null,
      "outputs": []
    },
    {
      "cell_type": "code",
      "source": [
        "model2.summary()"
      ],
      "metadata": {
        "id": "QmOaiVwDS3Jz"
      },
      "execution_count": null,
      "outputs": []
    },
    {
      "cell_type": "code",
      "source": [
        "model2.fit(x_train_normal, y_train, epochs=10) # accuracy=0.9735, loss=0.0809"
      ],
      "metadata": {
        "id": "G6rRq3uVS4g_"
      },
      "execution_count": null,
      "outputs": []
    },
    {
      "cell_type": "markdown",
      "source": [
        "### Test Model-1 (Unnormalized)"
      ],
      "metadata": {
        "id": "4C85_EJ5TqId"
      }
    },
    {
      "cell_type": "code",
      "source": [
        "model1.evaluate(x_test, y_test, verbose=1) # accuracy=0.92, loss=0.2355"
      ],
      "metadata": {
        "id": "6HR4hilkTolP"
      },
      "execution_count": null,
      "outputs": []
    },
    {
      "cell_type": "markdown",
      "source": [
        "### Test Model-2 (Normalized)"
      ],
      "metadata": {
        "id": "r_MA4BKLUWw6"
      }
    },
    {
      "cell_type": "code",
      "source": [
        "model2.evaluate(x_test_normal, y_test, verbose=1) # accuracy=0.9766, loss=0.0789"
      ],
      "metadata": {
        "id": "qxwPwMbAT-Er"
      },
      "execution_count": null,
      "outputs": []
    },
    {
      "cell_type": "markdown",
      "source": [
        "## Visualize failed tests"
      ],
      "metadata": {
        "id": "lnrGcEcpaO0r"
      }
    },
    {
      "cell_type": "code",
      "source": [
        "def visualize_fails(model, x_test, y_test, count=5):\n",
        "    import matplotlib.pyplot as plt\n",
        "    import numpy as np\n",
        "    k = 0\n",
        "    plt.figure(figsize=(8, 10))\n",
        "    for (x, y) in zip(x_test, y_test):\n",
        "        x_with_batch = np.expand_dims(x, axis=0)\n",
        "        y_pred = np.argmax(model.predict(x_with_batch, verbose=0)[0])\n",
        "        if y != y_pred:\n",
        "            plt.subplot(5, 5, k+1)\n",
        "            plt.xticks([])\n",
        "            plt.yticks([])\n",
        "            plt.xlabel(y)\n",
        "            plt.ylabel(y_pred)\n",
        "            plt.imshow(x)\n",
        "            k += 1\n",
        "        if k == count:\n",
        "            break\n",
        "    plt.show()"
      ],
      "metadata": {
        "id": "dDX4cf_yaOZ_"
      },
      "execution_count": null,
      "outputs": []
    },
    {
      "cell_type": "markdown",
      "source": [
        "### On what tests did Model-1 fail?"
      ],
      "metadata": {
        "id": "qypl2HRiUwn8"
      }
    },
    {
      "cell_type": "code",
      "source": [
        "visualize_fails(model1, x_test, y_test)"
      ],
      "metadata": {
        "id": "zCI8nHhCUnQz"
      },
      "execution_count": null,
      "outputs": []
    },
    {
      "cell_type": "markdown",
      "source": [
        "### On what tests did Model-2 fail?"
      ],
      "metadata": {
        "id": "S1BC7uNzaJfd"
      }
    },
    {
      "cell_type": "code",
      "source": [
        "visualize_fails(model2, x_test_normal, y_test, count=3) # quite reasonable"
      ],
      "metadata": {
        "id": "GcCMoThSV_5c"
      },
      "execution_count": null,
      "outputs": []
    },
    {
      "cell_type": "markdown",
      "source": [
        "# Train model-2 for longer"
      ],
      "metadata": {
        "id": "pye4DHYebGp2"
      }
    },
    {
      "cell_type": "code",
      "source": [
        "model2.fit(x_train_normal, y_train, verbose=1, epochs=5) # accuracy=0.9788, loss=0.064"
      ],
      "metadata": {
        "id": "LxHmdwo5a7KF"
      },
      "execution_count": null,
      "outputs": []
    },
    {
      "cell_type": "code",
      "source": [
        "model2.evaluate(x_test_normal, y_test) # accuracy=0.979, loss=0.7176"
      ],
      "metadata": {
        "id": "GYZsAFFgbRmx"
      },
      "execution_count": null,
      "outputs": []
    },
    {
      "cell_type": "code",
      "source": [
        "visualize_fails(model2, x_test_normal, y_test)"
      ],
      "metadata": {
        "id": "THiRUc9CbtKU"
      },
      "execution_count": null,
      "outputs": []
    },
    {
      "cell_type": "markdown",
      "source": [
        "# Save the models"
      ],
      "metadata": {
        "id": "me6D_09BcvyX"
      }
    },
    {
      "cell_type": "code",
      "source": [
        "model1.save(\"model1.h5\")\n",
        "model2.save(\"model2.h5\")"
      ],
      "metadata": {
        "id": "P5w3CRF6cDKn"
      },
      "execution_count": null,
      "outputs": []
    },
    {
      "cell_type": "code",
      "source": [],
      "metadata": {
        "id": "UAWt2uZieeiy"
      },
      "execution_count": null,
      "outputs": []
    }
  ]
}